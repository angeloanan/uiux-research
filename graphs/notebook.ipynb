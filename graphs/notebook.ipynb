{
 "cells": [
  {
   "cell_type": "code",
   "execution_count": 1,
   "metadata": {
    "cell_id": "2c714c91-12f4-46b3-9297-55638c789056",
    "deepnote_cell_height": 99,
    "deepnote_cell_type": "code",
    "deepnote_to_be_reexecuted": false,
    "execution_millis": 1033,
    "execution_start": 1656326154744,
    "source_hash": "eba39436",
    "tags": []
   },
   "outputs": [],
   "source": [
    "import numpy as np\n",
    "import matplotlib.pyplot as plt"
   ]
  },
  {
   "cell_type": "markdown",
   "metadata": {},
   "source": [
    "# Dataset import"
   ]
  },
  {
   "cell_type": "code",
   "execution_count": 2,
   "metadata": {
    "cell_id": "698bda5e9048432ab517a47ad1ae51ff",
    "deepnote_cell_height": 318,
    "deepnote_cell_type": "code",
    "owner_user_id": "d34419a5-5f9a-4d1e-9953-6e8b0f029238",
    "tags": []
   },
   "outputs": [],
   "source": [
    "# Dataset below\n",
    "\n",
    "# Symmetric\n",
    "symmetric = np.array([1, 2, 1, 1, 2, 5, 1, 1, 5, 2,\n",
    "                      5, 3, 6, 6, 5, 5, 3, 8, 6, 5,\n",
    "                      1, 6, 6, 1, 2, 4, 3, 3, 4, 5,\n",
    "                      2, 2, 8, 1, 6, 4, 5, 9, 8, 1,\n",
    "                      1, 1, 1, 1, 1, 1, 1, 1, 1, 1,\n",
    "                      6, 5, 3, 7, 6, 4, 6, 7, 5, 5,\n",
    "                      6, 6, 3, 5, 7, 7, 9, 9, 3, 6,\n",
    "                      7, 7, 3, 7, 7, 9, 8, 8, 3, 8,\n",
    "                      7, 8, 9, 7, 7, 6, 4, 8, 6, 7,\n",
    "                      8, 4, 7, 7, 6, 7, 7, 9, 7, 7,\n",
    "                      8, 6, 9, 8, 7, 9, 7, 9, 5, 9,\n",
    "                      8, 8, 7, 7, 8, 9, 8, 9, 7, 9,\n",
    "                      6, 8, 9, 8, 7, 6, 7, 1, 9, 8,\n",
    "                      6, 9, 8, 8, 8, 8, 9, 9, 8, 8,\n",
    "                      8, 7, 9, 8, 7, 7, 7, 9, 8, 9])\n",
    "\n",
    "# Colorful\n",
    "colorful = np.array([8, 3, 8, 9, 2, 6, 5, 9, 9, 8,\n",
    "                     7, 3, 3, 3, 3, 4, 3, 3, 4, 3,\n",
    "                     9, 9, 9, 9, 8, 8, 9, 9, 9, 9,\n",
    "                     1, 2, 1, 1, 1, 1, 1, 2, 1, 2,\n",
    "                     9, 9, 9, 9, 1, 9, 9, 9, 9, 9,\n",
    "                     3, 4, 1, 3, 4, 4, 3, 3, 5, 2,\n",
    "                     7, 9, 9, 9, 5, 9, 9, 9, 9, 6,\n",
    "                     6, 8, 9, 8, 9, 9, 9, 8, 8, 7,\n",
    "                     7, 9, 9, 6, 8, 6, 5, 8, 3, 5,\n",
    "                     6, 6, 2, 6, 3, 6, 4, 9, 6, 4,\n",
    "                     5, 5, 9, 8, 9, 6, 8, 5, 5, 7,\n",
    "                     6, 9, 8, 4, 5, 7, 5, 6, 3, 4,\n",
    "                     7, 9, 9, 9, 5, 6, 9, 7, 6, 7,\n",
    "                     6, 8, 9, 8, 8, 7, 9, 8, 3, 6,\n",
    "                     3, 7, 7, 3, 7, 5, 3, 6, 5, 2])\n",
    "\n",
    "# Complex\n",
    "complexity = np.array([3, 9, 9, 9, 9, 7, 9, 8, 8, 8,\n",
    "                       6, 8, 9, 7, 8, 7, 9, 2, 9, 6,\n",
    "                       7, 6, 9, 9, 9, 8, 9, 8, 9, 9,\n",
    "                       1, 4, 3, 9, 8, 8, 6, 6, 8, 1,\n",
    "                       8, 9, 9, 9, 9, 9, 9, 9, 8, 9,\n",
    "                       3, 4, 8, 9, 5, 5, 9, 6, 8, 5,\n",
    "                       2, 3, 5, 7, 3, 5, 1, 3, 2, 3,\n",
    "                       7, 4, 9, 8, 2, 5, 7, 7, 5, 7,\n",
    "                       4, 1, 1, 4, 4, 6, 4, 2, 2, 3,\n",
    "                       7, 7, 3, 7, 5, 6, 3, 3, 4, 4,\n",
    "                       8, 2, 7, 8, 2, 3, 4, 1, 3, 3,\n",
    "                       8, 7, 2, 6, 2, 3, 5, 2, 2, 5,\n",
    "                       4, 3, 1, 2, 4, 4, 6, 1, 1, 4,\n",
    "                       4, 3, 7, 6, 2, 4, 4, 1, 1, 5,\n",
    "                       5, 2, 1, 2, 3, 4, 1, 2, 2, 2])\n",
    "\n",
    "# The website's capabilites meet my requirement\n",
    "requirement = np.array([2, 3, 1, 1, 2, 4, 3, 1, 5, 5,\n",
    "                        4, 3, 1, 3, 2, 4, 1, 5, 4, 5,\n",
    "                        1, 4, 1, 2, 3, 4, 5, 3, 4, 4,\n",
    "                        3, 4, 7, 1, 3, 4, 7, 5, 3, 5,\n",
    "                        4, 2, 7, 1, 1, 2, 7, 1, 2, 1,\n",
    "                        2, 5, 4, 4, 5, 4, 7, 4, 4, 7,\n",
    "                        5, 6, 5, 3, 4, 5, 7, 6, 6, 7,\n",
    "                        4, 5, 4, 5, 6, 6, 7, 4, 5, 7,\n",
    "                        7, 7, 7, 7, 5, 4, 5, 5, 4, 6,\n",
    "                        7, 5, 7, 5, 4, 5, 7, 6, 6, 7,\n",
    "                        6, 7, 7, 7, 7, 7, 7, 7, 7, 7,\n",
    "                        7, 6, 7, 7, 7, 7, 6, 7, 7, 7,\n",
    "                        6, 6, 7, 7, 6, 5, 7, 7, 6, 6,\n",
    "                        4, 6, 2, 3, 7, 5, 7, 7, 7, 6,\n",
    "                        5, 6, 7, 7, 1, 5, 5, 6, 7, 7])\n",
    "\n",
    "# Using this website is a frustrating experience\n",
    "satisfaction = np.array([5, 7, 7, 6, 6, 6, 7, 7, 7, 5,\n",
    "                         5, 6, 6, 6, 6, 5, 7, 3, 6, 3,\n",
    "                         7, 7, 7, 7, 7, 7, 7, 7, 7, 5,\n",
    "                         5, 4, 6, 7, 4, 6, 2, 1, 6, 6,\n",
    "                         5, 7, 1, 7, 7, 7, 7, 7, 7, 7,\n",
    "                         4, 2, 4, 5, 3, 5, 3, 3, 6, 3,\n",
    "                         4, 2, 5, 3, 2, 2, 2, 2, 2, 1,\n",
    "                         6, 4, 6, 5, 2, 2, 3, 2, 3, 3,\n",
    "                         1, 2, 1, 2, 3, 5, 6, 1, 3, 2,\n",
    "                         2, 4, 1, 3, 6, 3, 4, 1, 3, 2,\n",
    "                         1, 1, 1, 5, 2, 1, 1, 1, 2, 2,\n",
    "                         1, 4, 1, 3, 2, 1, 4, 1, 3, 2,\n",
    "                         1, 3, 6, 1, 2, 2, 3, 2, 2, 2,\n",
    "                         3, 1, 5, 4, 2, 2, 4, 1, 2, 2,\n",
    "                         1, 2, 2, 1, 6, 2, 3, 3, 3, 1])\n",
    "\n",
    "overall = np.array([\n",
    "    2, 1, 1, 2, 1, 3, 2, 1, 4, 3,\n",
    "    4, 3, 1, 4, 3, 3, 5, 3, 3, 5,\n",
    "    2, 4, 1, 4, 2, 3, 4, 2, 2, 3,\n",
    "    3, 4, 6, 4, 5, 3, 7, 3, 3, 2,\n",
    "    4, 5, 7, 1, 1, 2, 1, 1, 2, 1,\n",
    "    3, 3, 2, 2, 5, 5, 5, 5, 4, 6,\n",
    "    4, 6, 2, 6, 6, 6, 7, 6, 6, 7,\n",
    "    3, 5, 3, 3, 6, 4, 7, 5, 5, 6,\n",
    "    7, 7, 7, 7, 6, 4, 5, 7, 6, 7,\n",
    "    7, 2, 7, 5, 4, 6, 7, 7, 6, 6,\n",
    "    7, 6, 7, 5, 6, 7, 7, 7, 6, 7,\n",
    "    6, 3, 7, 5, 6, 5, 7, 7, 7, 6,\n",
    "    7, 7, 6, 7, 5, 5, 7, 7, 6, 6,\n",
    "    4, 6, 1, 7, 6, 5, 7, 7, 6, 7,\n",
    "    7, 6, 6, 7, 5, 6, 7, 7, 7, 7,\n",
    "])\n",
    "\n",
    "tooMuchTime = np.array([\n",
    "    6, 5, 7, 6, 6, 4, 7, 4, 3, 6,\n",
    "    7, 5, 5, 4, 2, 4, 2, 2, 6, 6,\n",
    "    7, 4, 7, 7, 6, 5, 3, 3, 4, 6,\n",
    "    5, 5, 2, 7, 2, 5, 2, 5, 5, 6,\n",
    "    3, 5, 1, 7, 7, 5, 7, 7, 7, 5,\n",
    "    5, 4, 3, 2, 2, 2, 5, 5, 6, 2,\n",
    "    4, 2, 5, 3, 2, 2, 1, 1, 4, 2,\n",
    "    7, 4, 2, 4, 2, 3, 4, 5, 3, 6,\n",
    "    1, 1, 1, 1, 2, 5, 3, 2, 2, 1,\n",
    "    1, 6, 1, 5, 3, 2, 3, 1, 2, 3,\n",
    "    1, 2, 1, 3, 4, 1, 1, 1, 1, 1,\n",
    "    1, 6, 1, 2, 1, 2, 3, 1, 2, 5,\n",
    "    1, 2, 2, 2, 4, 2, 4, 2, 2, 2,\n",
    "    3, 3, 5, 2, 2, 3, 1, 1, 3, 6,\n",
    "    1, 2, 2, 1, 2, 3, 4, 4, 1, 4,\n",
    "])"
   ]
  },
  {
   "cell_type": "code",
   "execution_count": 3,
   "metadata": {},
   "outputs": [],
   "source": [
    "datas = [\n",
    "    # UI\n",
    "    symmetric,\n",
    "    colorful,\n",
    "    complexity,\n",
    "    #  UX\n",
    "    requirement,\n",
    "    satisfaction,\n",
    "    overall,\n",
    "    tooMuchTime\n",
    "]"
   ]
  },
  {
   "cell_type": "code",
   "execution_count": 4,
   "metadata": {},
   "outputs": [],
   "source": [
    "# UI Average\n",
    "symmetricReshaped = symmetric.reshape(15, 10)\n",
    "colorfulReshaped = colorful.reshape(15, 10)\n",
    "complexityReshaped = complexity.reshape(15, 10)\n",
    "\n",
    "symmetricAvg = symmetricReshaped.mean(axis=1)\n",
    "colorfulAvg = colorfulReshaped.mean(axis=1)\n",
    "complexityAvg = complexityReshaped.mean(axis=1)\n",
    "\n",
    "# UX Averages\n",
    "requirementShaped = requirement.reshape(15, 10)\n",
    "satisfactionShaped = satisfaction.reshape(15, 10)\n",
    "overallShaped = overall.reshape(15, 10)\n",
    "tooMuchTimeShaped = tooMuchTime.reshape(15, 10)"
   ]
  },
  {
   "cell_type": "code",
   "execution_count": 5,
   "metadata": {},
   "outputs": [
    {
     "data": {
      "text/plain": [
       "array([[6, 5, 7, 6, 6, 4, 7, 4, 3, 6],\n",
       "       [7, 5, 5, 4, 2, 4, 2, 2, 6, 6],\n",
       "       [7, 4, 7, 7, 6, 5, 3, 3, 4, 6],\n",
       "       [5, 5, 2, 7, 2, 5, 2, 5, 5, 6],\n",
       "       [3, 5, 1, 7, 7, 5, 7, 7, 7, 5],\n",
       "       [5, 4, 3, 2, 2, 2, 5, 5, 6, 2],\n",
       "       [4, 2, 5, 3, 2, 2, 1, 1, 4, 2],\n",
       "       [7, 4, 2, 4, 2, 3, 4, 5, 3, 6],\n",
       "       [1, 1, 1, 1, 2, 5, 3, 2, 2, 1],\n",
       "       [1, 6, 1, 5, 3, 2, 3, 1, 2, 3],\n",
       "       [1, 2, 1, 3, 4, 1, 1, 1, 1, 1],\n",
       "       [1, 6, 1, 2, 1, 2, 3, 1, 2, 5],\n",
       "       [1, 2, 2, 2, 4, 2, 4, 2, 2, 2],\n",
       "       [3, 3, 5, 2, 2, 3, 1, 1, 3, 6],\n",
       "       [1, 2, 2, 1, 2, 3, 4, 4, 1, 4]])"
      ]
     },
     "execution_count": 5,
     "metadata": {},
     "output_type": "execute_result"
    }
   ],
   "source": [
    "tooMuchTimeShaped"
   ]
  },
  {
   "cell_type": "code",
   "execution_count": 6,
   "metadata": {},
   "outputs": [
    {
     "data": {
      "text/plain": [
       "array([20.83333333, 37.5       , 24.16666667, 46.25      , 23.75      ,\n",
       "       55.        , 74.58333333, 60.        , 81.25      , 75.        ,\n",
       "       92.08333333, 83.75      , 82.91666667, 72.91666667, 80.41666667])"
      ]
     },
     "execution_count": 6,
     "metadata": {},
     "output_type": "execute_result"
    }
   ],
   "source": [
    "# Calculating UMUX Scores\n",
    "\n",
    "umuxScore = np.zeros(15)\n",
    "for i in range(0, 15):\n",
    "  # For every websites\n",
    "  webScore = np.zeros(10)\n",
    "\n",
    "  for j in range(0, 10):\n",
    "    webScore[j] = (((requirementShaped[i][j] - 1) + (7 - satisfactionShaped[i][j]) +( overallShaped[i][j] - 1) + (7 - tooMuchTimeShaped[i][j])) / 24) * 100\n",
    "\n",
    "  umuxScore[i] = webScore.mean()\n",
    "\n",
    "umuxScore"
   ]
  },
  {
   "cell_type": "code",
   "execution_count": 7,
   "metadata": {},
   "outputs": [
    {
     "data": {
      "text/plain": [
       "array([1.5132746 , 1.4       , 1.74642492, 2.90516781, 0.        ,\n",
       "       1.2       , 1.97230829, 1.95192213, 1.3       , 1.22065556,\n",
       "       1.3453624 , 0.77459667, 2.21133444, 0.83066239, 0.83066239])"
      ]
     },
     "execution_count": 7,
     "metadata": {},
     "output_type": "execute_result"
    }
   ],
   "source": [
    "# DEBUG\n",
    "symmetric.reshape(15, 10).T\n",
    "symmetric.reshape(15, 10).std(axis=1)"
   ]
  },
  {
   "cell_type": "markdown",
   "metadata": {},
   "source": [
    "# Graphing"
   ]
  },
  {
   "cell_type": "code",
   "execution_count": 8,
   "metadata": {},
   "outputs": [
    {
     "data": {
      "text/plain": [
       "['Solarize_Light2',\n",
       " '_classic_test_patch',\n",
       " '_mpl-gallery',\n",
       " '_mpl-gallery-nogrid',\n",
       " 'bmh',\n",
       " 'classic',\n",
       " 'dark_background',\n",
       " 'fast',\n",
       " 'fivethirtyeight',\n",
       " 'ggplot',\n",
       " 'grayscale',\n",
       " 'seaborn',\n",
       " 'seaborn-bright',\n",
       " 'seaborn-colorblind',\n",
       " 'seaborn-dark',\n",
       " 'seaborn-dark-palette',\n",
       " 'seaborn-darkgrid',\n",
       " 'seaborn-deep',\n",
       " 'seaborn-muted',\n",
       " 'seaborn-notebook',\n",
       " 'seaborn-paper',\n",
       " 'seaborn-pastel',\n",
       " 'seaborn-poster',\n",
       " 'seaborn-talk',\n",
       " 'seaborn-ticks',\n",
       " 'seaborn-white',\n",
       " 'seaborn-whitegrid',\n",
       " 'tableau-colorblind10']"
      ]
     },
     "execution_count": 8,
     "metadata": {},
     "output_type": "execute_result"
    }
   ],
   "source": [
    "# DEBUG: Show color\n",
    "plt.style.available"
   ]
  },
  {
   "cell_type": "code",
   "execution_count": 9,
   "metadata": {},
   "outputs": [],
   "source": [
    "plt.style.use('default')"
   ]
  },
  {
   "cell_type": "markdown",
   "metadata": {},
   "source": [
    "## Symmetric vs UMUX"
   ]
  },
  {
   "cell_type": "code",
   "execution_count": null,
   "metadata": {},
   "outputs": [],
   "source": []
  },
  {
   "cell_type": "code",
   "execution_count": 10,
   "metadata": {
    "cell_id": "4c9b2d34f1764e9797b0be5d5fa954a1",
    "deepnote_cell_height": 418.1875,
    "deepnote_cell_type": "code",
    "deepnote_output_heights": [
     null,
     254
    ],
    "deepnote_to_be_reexecuted": false,
    "execution_millis": 283,
    "execution_start": 1656326167577,
    "source_hash": "7b56b854",
    "tags": []
   },
   "outputs": [
    {
     "data": {
      "text/plain": [
       "<Figure size 432x288 with 0 Axes>"
      ]
     },
     "metadata": {},
     "output_type": "display_data"
    },
    {
     "data": {
      "image/png": "[encoded data removed]",
      "text/plain": [
       "<Figure size 432x288 with 1 Axes>"
      ]
     },
     "metadata": {
      "needs_background": "light"
     },
     "output_type": "display_data"
    }
   ],
   "source": [
    "plt.viridis()\n",
    "fig, ax = plt.subplots()\n",
    "\n",
    "plt.title('Symmetric vs UMUX')\n",
    "ax.set_ylim(1, 9)\n",
    "ax.set_xlim(0, 100)\n",
    "ax.set_ylabel('Symmetric Score')\n",
    "ax.set_xlabel('UMUX Score')\n",
    "\n",
    "ax.scatter(umuxScore, symmetricAvg, color='red', label='Average score', marker='x', zorder=10)\n",
    "\n",
    "# Trendline \n",
    "# z = np.polynomial.polynomial.polyfit(umuxScore, symmetricAvg, 2)\n",
    "# p = np.polynomial.Polynomial(z)\n",
    "# ax.plot(umuxScore, p(umuxScore))\n",
    "\n",
    "plt.grid(True)\n",
    "plt.legend(loc=\"upper left\")\n",
    "\n",
    "plt.savefig('symmetric.png', dpi=300, format='png')\n",
    "plt.savefig('symmetric.pgf', dpi=300, format='pgf', backend='pgf')\n",
    "plt.show()\n"
   ]
  },
  {
   "cell_type": "code",
   "execution_count": 11,
   "metadata": {},
   "outputs": [
    {
     "data": {
      "text/plain": [
       "<Figure size 432x288 with 0 Axes>"
      ]
     },
     "metadata": {},
     "output_type": "display_data"
    },
    {
     "data": {
      "image/png": "[encoded data removed]",
      "text/plain": [
       "<Figure size 432x288 with 1 Axes>"
      ]
     },
     "metadata": {
      "needs_background": "light"
     },
     "output_type": "display_data"
    }
   ],
   "source": [
    "plt.viridis()\n",
    "fig, ax = plt.subplots()\n",
    "\n",
    "plt.title('Symmetric vs UMUX (Detailed)')\n",
    "ax.set_ylim(1, 9)\n",
    "ax.set_xlim(0, 100)\n",
    "ax.set_ylabel('Symmetric Score')\n",
    "ax.set_xlabel('UMUX Score')\n",
    "\n",
    "ax.scatter(umuxScore, symmetricAvg, color='red', label='Average score', marker='x', zorder=10)\n",
    "ax.errorbar(umuxScore, symmetricAvg, yerr=symmetricReshaped.std(axis=1) / np.sqrt(10), fmt='x', label='Standard Error')\n",
    "\n",
    "# Trendline \n",
    "# z = np.polynomial.polynomial.polyfit(umuxScore, symmetricAvg, 2)\n",
    "# p = np.polynomial.Polynomial(z)\n",
    "# ax.plot(umuxScore, p(umuxScore), label='Trendline', zorder=20)\n",
    "\n",
    "plt.grid(True)\n",
    "plt.legend(loc=\"best\")\n",
    "\n",
    "plt.savefig('symmetric_detailed.png', dpi=300, format='png')\n",
    "plt.savefig('symmetric_detailed.pgf', dpi=300, format='pgf', backend='pgf')\n",
    "plt.show()\n"
   ]
  },
  {
   "cell_type": "markdown",
   "metadata": {},
   "source": [
    "## Colorful vs UMUX"
   ]
  },
  {
   "cell_type": "code",
   "execution_count": 12,
   "metadata": {},
   "outputs": [
    {
     "data": {
      "text/plain": [
       "<Figure size 432x288 with 0 Axes>"
      ]
     },
     "metadata": {},
     "output_type": "display_data"
    },
    {
     "data": {
      "image/png": "[encoded data removed]",
      "text/plain": [
       "<Figure size 432x288 with 1 Axes>"
      ]
     },
     "metadata": {
      "needs_background": "light"
     },
     "output_type": "display_data"
    },
    {
     "data": {
      "text/plain": [
       "<Figure size 432x288 with 0 Axes>"
      ]
     },
     "metadata": {},
     "output_type": "display_data"
    },
    {
     "data": {
      "image/png": "[encoded data removed]",
      "text/plain": [
       "<Figure size 432x288 with 1 Axes>"
      ]
     },
     "metadata": {
      "needs_background": "light"
     },
     "output_type": "display_data"
    }
   ],
   "source": [
    "plt.viridis()\n",
    "fig, ax = plt.subplots()\n",
    "\n",
    "plt.title('Colorful vs UMUX')\n",
    "ax.set_ylim(1, 9)\n",
    "ax.set_xlim(0, 100)\n",
    "ax.set_ylabel('Colorful Score')\n",
    "ax.set_xlabel('UMUX Score')\n",
    "\n",
    "ax.scatter(umuxScore, colorfulAvg, color='red', label='Average score', marker='x', zorder=10)\n",
    "\n",
    "# Trendline \n",
    "# z = np.polynomial.polynomial.polyfit(umuxScore, colorfulAvg, 2)\n",
    "# p = np.polynomial.Polynomial(z)\n",
    "# ax.plot(umuxScore, p(umuxScore), label='Trendline', zorder=20)\n",
    "\n",
    "plt.grid(True)\n",
    "plt.legend(loc=\"best\")\n",
    "\n",
    "plt.savefig('colorful.png', dpi=300, format='png')\n",
    "plt.savefig('colorful.pgf', dpi=300, format='pgf', backend='pgf')\n",
    "plt.show()\n",
    "\n",
    "# --------------\n",
    "\n",
    "plt.viridis()\n",
    "fig, ax = plt.subplots()\n",
    "\n",
    "plt.title('Colorful vs UMUX (Detailed)')\n",
    "ax.set_ylim(1, 9)\n",
    "ax.set_xlim(0, 100)\n",
    "ax.set_ylabel('Colorful Score')\n",
    "ax.set_xlabel('UMUX Score')\n",
    "\n",
    "ax.scatter(umuxScore, colorfulAvg, color='red', label='Average score', marker='x', zorder=10)\n",
    "ax.errorbar(umuxScore, colorfulAvg, yerr=colorfulReshaped.std(axis=1) / np.sqrt(10), fmt='x', label='Standard Error')\n",
    "# ax.plot(umuxScore, p(umuxScore), label='Trendline', zorder=20)\n",
    "\n",
    "plt.grid(True)\n",
    "plt.legend(loc=\"best\")\n",
    "\n",
    "plt.savefig('colorful_detailed.png', dpi=300, format='png')\n",
    "plt.savefig('colorful_detailed.pgf', dpi=300, format='pgf', backend='pgf')\n",
    "plt.show()\n"
   ]
  },
  {
   "cell_type": "markdown",
   "metadata": {},
   "source": [
    "## Visual Complexity"
   ]
  },
  {
   "cell_type": "code",
   "execution_count": 13,
   "metadata": {},
   "outputs": [
    {
     "data": {
      "text/plain": [
       "<Figure size 432x288 with 0 Axes>"
      ]
     },
     "metadata": {},
     "output_type": "display_data"
    },
    {
     "data": {
      "image/png": "[encoded data removed]",
      "text/plain": [
       "<Figure size 432x288 with 1 Axes>"
      ]
     },
     "metadata": {
      "needs_background": "light"
     },
     "output_type": "display_data"
    },
    {
     "data": {
      "text/plain": [
       "<Figure size 432x288 with 0 Axes>"
      ]
     },
     "metadata": {},
     "output_type": "display_data"
    },
    {
     "data": {
      "image/png": "[encoded data removed]",
      "text/plain": [
       "<Figure size 432x288 with 1 Axes>"
      ]
     },
     "metadata": {
      "needs_background": "light"
     },
     "output_type": "display_data"
    }
   ],
   "source": [
    "plt.viridis()\n",
    "fig, ax = plt.subplots()\n",
    "\n",
    "plt.title('Visual Complexity vs UMUX')\n",
    "ax.set_ylim(1, 9)\n",
    "ax.set_xlim(0, 100)\n",
    "ax.set_ylabel('Visual Complexity Score')\n",
    "ax.set_xlabel('UMUX Score')\n",
    "\n",
    "ax.scatter(umuxScore, complexityAvg, color='red', label='Average score', marker='x', zorder=10)\n",
    "plt.grid(True)\n",
    "plt.legend(loc=\"best\")\n",
    "\n",
    "# Trendline \n",
    "# z = np.polynomial.polynomial.polyfit(umuxScore, complexityAvg, 1)\n",
    "# p = np.polynomial.Polynomial(z)\n",
    "# ax.plot(umuxScore, p(umuxScore), label='Trendline', zorder=20)\n",
    "\n",
    "plt.savefig('visual_complexity.png', dpi=300, format='png')\n",
    "plt.savefig('visual_complexity.pgf', format='pgf', backend='pgf')\n",
    "plt.show()\n",
    "\n",
    "# --------------\n",
    "\n",
    "plt.viridis()\n",
    "fig, ax = plt.subplots()\n",
    "\n",
    "plt.title('Visual Complexity vs UMUX (Detailed)')\n",
    "ax.set_ylim(1, 9)\n",
    "ax.set_xlim(0, 100)\n",
    "ax.set_ylabel('Visual Complexity Score')\n",
    "ax.set_xlabel('UMUX Score')\n",
    "\n",
    "ax.scatter(umuxScore, complexityAvg, color='red', label='Average score', marker='x', zorder=10)\n",
    "ax.errorbar(umuxScore, complexityAvg, yerr=complexityReshaped.std(axis=1) / np.sqrt(10), fmt='x', label='Standard Error')\n",
    "# ax.plot(umuxScore, p(umuxScore), label='Trendline', zorder=20, color=\"purple\", linewidth=1, linestyle=\"--\")\n",
    "\n",
    "plt.grid(True)\n",
    "plt.legend(loc=\"best\")\n",
    "\n",
    "plt.savefig('visual_complexity_detailed.png', dpi=300, format='png')\n",
    "plt.savefig('visual_complexity_detailed.pgf', format='pgf', backend='pgf')\n",
    "plt.show()\n"
   ]
  },
  {
   "cell_type": "markdown",
   "metadata": {
    "created_in_deepnote_cell": true,
    "deepnote_cell_type": "markdown",
    "tags": []
   },
   "source": []
  }
 ],
 "metadata": {
  "deepnote": {},
  "deepnote_execution_queue": [],
  "deepnote_notebook_id": "89aa9d90-3573-4bb4-802b-009ddd78748e",
  "kernelspec": {
   "display_name": "Python 3.10.5 64-bit",
   "language": "python",
   "name": "python3"
  },
  "language_info": {
   "codemirror_mode": {
    "name": "ipython",
    "version": 3
   },
   "file_extension": ".py",
   "mimetype": "text/x-python",
   "name": "python",
   "nbconvert_exporter": "python",
   "pygments_lexer": "ipython3",
   "version": "3.10.5"
  },
  "orig_nbformat": 2,
  "vscode": {
   "interpreter": {
    "hash": "e7370f93d1d0cde622a1f8e1c04877d8463912d04d973331ad4851f04de6915a"
   }
  }
 },
 "nbformat": 4,
 "nbformat_minor": 2
}
